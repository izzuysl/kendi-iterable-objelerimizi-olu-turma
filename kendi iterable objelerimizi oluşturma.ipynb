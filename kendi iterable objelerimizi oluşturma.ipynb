{
 "cells": [
  {
   "cell_type": "code",
   "execution_count": 22,
   "id": "323c016c",
   "metadata": {},
   "outputs": [],
   "source": [
    "class Kumanda():\n",
    "    def __init__(self,kanal_listesi):\n",
    "        self.kanal_listesi = kanal_listesi\n",
    "        self.index = -1\n",
    "    def __iter__(self):\n",
    "        return self\n",
    "    def __next__(self):\n",
    "        self.index += 1\n",
    "        if self.index < len(self.kanal_listesi):\n",
    "            return self.kanal_listesi[self.index]\n",
    "        else:\n",
    "            self.index = -1\n",
    "            raise StopIteration\n",
    "            \n",
    "            "
   ]
  },
  {
   "cell_type": "code",
   "execution_count": 23,
   "id": "f7af21f2",
   "metadata": {},
   "outputs": [],
   "source": [
    "kumanda = Kumanda([\"Atv\",\"Trt\",\"Fox\",\"Kanal d\",\"Bloomberg\"])"
   ]
  },
  {
   "cell_type": "code",
   "execution_count": 24,
   "id": "da36d092",
   "metadata": {},
   "outputs": [],
   "source": [
    "iterator = iter(kumanda)"
   ]
  },
  {
   "cell_type": "code",
   "execution_count": 25,
   "id": "9c59bd18",
   "metadata": {},
   "outputs": [
    {
     "data": {
      "text/plain": [
       "'Atv'"
      ]
     },
     "execution_count": 25,
     "metadata": {},
     "output_type": "execute_result"
    }
   ],
   "source": [
    "next(iterator)"
   ]
  },
  {
   "cell_type": "code",
   "execution_count": 26,
   "id": "d7e1aca5",
   "metadata": {},
   "outputs": [
    {
     "data": {
      "text/plain": [
       "'Trt'"
      ]
     },
     "execution_count": 26,
     "metadata": {},
     "output_type": "execute_result"
    }
   ],
   "source": [
    "next(iterator)"
   ]
  },
  {
   "cell_type": "code",
   "execution_count": 27,
   "id": "d30400e1",
   "metadata": {},
   "outputs": [
    {
     "data": {
      "text/plain": [
       "'Fox'"
      ]
     },
     "execution_count": 27,
     "metadata": {},
     "output_type": "execute_result"
    }
   ],
   "source": [
    "next(iterator)"
   ]
  },
  {
   "cell_type": "code",
   "execution_count": 28,
   "id": "97a08418",
   "metadata": {},
   "outputs": [
    {
     "data": {
      "text/plain": [
       "'Kanal d'"
      ]
     },
     "execution_count": 28,
     "metadata": {},
     "output_type": "execute_result"
    }
   ],
   "source": [
    "next(iterator)"
   ]
  },
  {
   "cell_type": "code",
   "execution_count": 29,
   "id": "6dfd1f70",
   "metadata": {},
   "outputs": [
    {
     "data": {
      "text/plain": [
       "'Bloomberg'"
      ]
     },
     "execution_count": 29,
     "metadata": {},
     "output_type": "execute_result"
    }
   ],
   "source": [
    "next(iterator)"
   ]
  }
 ],
 "metadata": {
  "kernelspec": {
   "display_name": "Python 3 (ipykernel)",
   "language": "python",
   "name": "python3"
  },
  "language_info": {
   "codemirror_mode": {
    "name": "ipython",
    "version": 3
   },
   "file_extension": ".py",
   "mimetype": "text/x-python",
   "name": "python",
   "nbconvert_exporter": "python",
   "pygments_lexer": "ipython3",
   "version": "3.9.7"
  }
 },
 "nbformat": 4,
 "nbformat_minor": 5
}
